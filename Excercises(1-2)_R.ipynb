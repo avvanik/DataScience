{
 "cells": [
  {
   "cell_type": "code",
   "execution_count": 155,
   "id": "fce04c63",
   "metadata": {},
   "outputs": [],
   "source": [
    "input <- readline(prompt=\"Guess a number between 0 and 100: \")\n",
    "\n",
    "random.number <- sample(1:100, 1)\n",
    "\n",
    "message(\"Your guess: \", input)\n",
    "message(\"The correct number is: \", random.number)\n",
    "\n",
    "if(input == random.number) {\n",
    "  print(\"Your guess is correct\")\n",
    "} else {\n",
    "  print(\"Your guess is wrong\")\n",
    "}\n",
    "\n",
    "\n",
    "\n",
    "\n",
    "\n",
    "#type in guess: here \"34\"\n",
    "\n",
    "\n",
    "\n"
   ]
  },
  {
   "cell_type": "code",
   "execution_count": 154,
   "id": "5f11dd5e",
   "metadata": {},
   "outputs": [
    {
     "name": "stdout",
     "output_type": "stream",
     "text": [
      "Guess a number between 0 and 100: 34\n"
     ]
    },
    {
     "name": "stderr",
     "output_type": "stream",
     "text": [
      "Your guess: 34\n",
      "The correct number is: 72\n"
     ]
    },
    {
     "name": "stdout",
     "output_type": "stream",
     "text": [
      "[1] \"Your guess is wrong\"\n"
     ]
    }
   ],
   "source": [
    "input <- readline(prompt=\"Guess a number between 0 and 100: \")\n",
    "\n",
    "random.number <- sample(1:100, 1)\n",
    "\n",
    "message(\"Your guess: \", input)\n",
    "message(\"The correct number is: \", random.number)\n",
    "\n",
    "if(input == random.number) {\n",
    "  print(\"Your guess is correct\")\n",
    "} else {\n",
    "  print(\"Your guess is wrong\")\n",
    "}\n"
   ]
  },
  {
   "cell_type": "code",
   "execution_count": 123,
   "id": "9df81794",
   "metadata": {},
   "outputs": [],
   "source": [
    "#see all datasets\n",
    "\n",
    "data()\n"
   ]
  },
  {
   "cell_type": "code",
   "execution_count": 129,
   "id": "efe6933e",
   "metadata": {},
   "outputs": [
    {
     "data": {
      "text/html": [
       "<table>\n",
       "<thead><tr><th scope=col>agegp</th><th scope=col>alcgp</th><th scope=col>tobgp</th><th scope=col>ncases</th><th scope=col>ncontrols</th></tr></thead>\n",
       "<tbody>\n",
       "\t<tr><td>25-34    </td><td>0-39g/day</td><td>0-9g/day </td><td>0        </td><td>40       </td></tr>\n",
       "\t<tr><td>25-34    </td><td>0-39g/day</td><td>10-19    </td><td>0        </td><td>10       </td></tr>\n",
       "\t<tr><td>25-34    </td><td>0-39g/day</td><td>20-29    </td><td>0        </td><td> 6       </td></tr>\n",
       "\t<tr><td>25-34    </td><td>0-39g/day</td><td>30+      </td><td>0        </td><td> 5       </td></tr>\n",
       "\t<tr><td>25-34    </td><td>40-79    </td><td>0-9g/day </td><td>0        </td><td>27       </td></tr>\n",
       "\t<tr><td>25-34    </td><td>40-79    </td><td>10-19    </td><td>0        </td><td> 7       </td></tr>\n",
       "\t<tr><td>25-34    </td><td>40-79    </td><td>20-29    </td><td>0        </td><td> 4       </td></tr>\n",
       "\t<tr><td>25-34    </td><td>40-79    </td><td>30+      </td><td>0        </td><td> 7       </td></tr>\n",
       "\t<tr><td>25-34    </td><td>80-119   </td><td>0-9g/day </td><td>0        </td><td> 2       </td></tr>\n",
       "\t<tr><td>25-34    </td><td>80-119   </td><td>10-19    </td><td>0        </td><td> 1       </td></tr>\n",
       "\t<tr><td>25-34    </td><td>80-119   </td><td>30+      </td><td>0        </td><td> 2       </td></tr>\n",
       "\t<tr><td>25-34    </td><td>120+     </td><td>0-9g/day </td><td>0        </td><td> 1       </td></tr>\n",
       "\t<tr><td>25-34    </td><td>120+     </td><td>10-19    </td><td>1        </td><td> 1       </td></tr>\n",
       "\t<tr><td>25-34    </td><td>120+     </td><td>20-29    </td><td>0        </td><td> 1       </td></tr>\n",
       "\t<tr><td>25-34    </td><td>120+     </td><td>30+      </td><td>0        </td><td> 2       </td></tr>\n",
       "\t<tr><td>35-44    </td><td>0-39g/day</td><td>0-9g/day </td><td>0        </td><td>60       </td></tr>\n",
       "\t<tr><td>35-44    </td><td>0-39g/day</td><td>10-19    </td><td>1        </td><td>14       </td></tr>\n",
       "\t<tr><td>35-44    </td><td>0-39g/day</td><td>20-29    </td><td>0        </td><td> 7       </td></tr>\n",
       "\t<tr><td>35-44    </td><td>0-39g/day</td><td>30+      </td><td>0        </td><td> 8       </td></tr>\n",
       "\t<tr><td>35-44    </td><td>40-79    </td><td>0-9g/day </td><td>0        </td><td>35       </td></tr>\n",
       "\t<tr><td>35-44    </td><td>40-79    </td><td>10-19    </td><td>3        </td><td>23       </td></tr>\n",
       "\t<tr><td>35-44    </td><td>40-79    </td><td>20-29    </td><td>1        </td><td>14       </td></tr>\n",
       "\t<tr><td>35-44    </td><td>40-79    </td><td>30+      </td><td>0        </td><td> 8       </td></tr>\n",
       "\t<tr><td>35-44    </td><td>80-119   </td><td>0-9g/day </td><td>0        </td><td>11       </td></tr>\n",
       "\t<tr><td>35-44    </td><td>80-119   </td><td>10-19    </td><td>0        </td><td> 6       </td></tr>\n",
       "\t<tr><td>35-44    </td><td>80-119   </td><td>20-29    </td><td>0        </td><td> 2       </td></tr>\n",
       "\t<tr><td>35-44    </td><td>80-119   </td><td>30+      </td><td>0        </td><td> 1       </td></tr>\n",
       "\t<tr><td>35-44    </td><td>120+     </td><td>0-9g/day </td><td>2        </td><td> 3       </td></tr>\n",
       "\t<tr><td>35-44    </td><td>120+     </td><td>10-19    </td><td>0        </td><td> 3       </td></tr>\n",
       "\t<tr><td>35-44    </td><td>120+     </td><td>20-29    </td><td>2        </td><td> 4       </td></tr>\n",
       "\t<tr><td>...</td><td>...</td><td>...</td><td>...</td><td>...</td></tr>\n",
       "\t<tr><td>55-64    </td><td>120+     </td><td>0-9g/day </td><td> 5       </td><td>10       </td></tr>\n",
       "\t<tr><td>55-64    </td><td>120+     </td><td>10-19    </td><td> 6       </td><td> 7       </td></tr>\n",
       "\t<tr><td>55-64    </td><td>120+     </td><td>20-29    </td><td> 2       </td><td> 3       </td></tr>\n",
       "\t<tr><td>55-64    </td><td>120+     </td><td>30+      </td><td> 5       </td><td> 6       </td></tr>\n",
       "\t<tr><td>65-74    </td><td>0-39g/day</td><td>0-9g/day </td><td> 5       </td><td>48       </td></tr>\n",
       "\t<tr><td>65-74    </td><td>0-39g/day</td><td>10-19    </td><td> 4       </td><td>14       </td></tr>\n",
       "\t<tr><td>65-74    </td><td>0-39g/day</td><td>20-29    </td><td> 2       </td><td> 7       </td></tr>\n",
       "\t<tr><td>65-74    </td><td>0-39g/day</td><td>30+      </td><td> 0       </td><td> 2       </td></tr>\n",
       "\t<tr><td>65-74    </td><td>40-79    </td><td>0-9g/day </td><td>17       </td><td>34       </td></tr>\n",
       "\t<tr><td>65-74    </td><td>40-79    </td><td>10-19    </td><td> 3       </td><td>10       </td></tr>\n",
       "\t<tr><td>65-74    </td><td>40-79    </td><td>20-29    </td><td> 5       </td><td> 9       </td></tr>\n",
       "\t<tr><td>65-74    </td><td>80-119   </td><td>0-9g/day </td><td> 6       </td><td>13       </td></tr>\n",
       "\t<tr><td>65-74    </td><td>80-119   </td><td>10-19    </td><td> 4       </td><td>12       </td></tr>\n",
       "\t<tr><td>65-74    </td><td>80-119   </td><td>20-29    </td><td> 2       </td><td> 3       </td></tr>\n",
       "\t<tr><td>65-74    </td><td>80-119   </td><td>30+      </td><td> 1       </td><td> 1       </td></tr>\n",
       "\t<tr><td>65-74    </td><td>120+     </td><td>0-9g/day </td><td> 3       </td><td> 4       </td></tr>\n",
       "\t<tr><td>65-74    </td><td>120+     </td><td>10-19    </td><td> 1       </td><td> 2       </td></tr>\n",
       "\t<tr><td>65-74    </td><td>120+     </td><td>20-29    </td><td> 1       </td><td> 1       </td></tr>\n",
       "\t<tr><td>65-74    </td><td>120+     </td><td>30+      </td><td> 1       </td><td> 1       </td></tr>\n",
       "\t<tr><td>75+      </td><td>0-39g/day</td><td>0-9g/day </td><td> 1       </td><td>18       </td></tr>\n",
       "\t<tr><td>75+      </td><td>0-39g/day</td><td>10-19    </td><td> 2       </td><td> 6       </td></tr>\n",
       "\t<tr><td>75+      </td><td>0-39g/day</td><td>30+      </td><td> 1       </td><td> 3       </td></tr>\n",
       "\t<tr><td>75+      </td><td>40-79    </td><td>0-9g/day </td><td> 2       </td><td> 5       </td></tr>\n",
       "\t<tr><td>75+      </td><td>40-79    </td><td>10-19    </td><td> 1       </td><td> 3       </td></tr>\n",
       "\t<tr><td>75+      </td><td>40-79    </td><td>20-29    </td><td> 0       </td><td> 3       </td></tr>\n",
       "\t<tr><td>75+      </td><td>40-79    </td><td>30+      </td><td> 1       </td><td> 1       </td></tr>\n",
       "\t<tr><td>75+      </td><td>80-119   </td><td>0-9g/day </td><td> 1       </td><td> 1       </td></tr>\n",
       "\t<tr><td>75+      </td><td>80-119   </td><td>10-19    </td><td> 1       </td><td> 1       </td></tr>\n",
       "\t<tr><td>75+      </td><td>120+     </td><td>0-9g/day </td><td> 2       </td><td> 2       </td></tr>\n",
       "\t<tr><td>75+      </td><td>120+     </td><td>10-19    </td><td> 1       </td><td> 1       </td></tr>\n",
       "</tbody>\n",
       "</table>\n"
      ],
      "text/latex": [
       "\\begin{tabular}{r|lllll}\n",
       " agegp & alcgp & tobgp & ncases & ncontrols\\\\\n",
       "\\hline\n",
       "\t 25-34     & 0-39g/day & 0-9g/day  & 0         & 40       \\\\\n",
       "\t 25-34     & 0-39g/day & 10-19     & 0         & 10       \\\\\n",
       "\t 25-34     & 0-39g/day & 20-29     & 0         &  6       \\\\\n",
       "\t 25-34     & 0-39g/day & 30+       & 0         &  5       \\\\\n",
       "\t 25-34     & 40-79     & 0-9g/day  & 0         & 27       \\\\\n",
       "\t 25-34     & 40-79     & 10-19     & 0         &  7       \\\\\n",
       "\t 25-34     & 40-79     & 20-29     & 0         &  4       \\\\\n",
       "\t 25-34     & 40-79     & 30+       & 0         &  7       \\\\\n",
       "\t 25-34     & 80-119    & 0-9g/day  & 0         &  2       \\\\\n",
       "\t 25-34     & 80-119    & 10-19     & 0         &  1       \\\\\n",
       "\t 25-34     & 80-119    & 30+       & 0         &  2       \\\\\n",
       "\t 25-34     & 120+      & 0-9g/day  & 0         &  1       \\\\\n",
       "\t 25-34     & 120+      & 10-19     & 1         &  1       \\\\\n",
       "\t 25-34     & 120+      & 20-29     & 0         &  1       \\\\\n",
       "\t 25-34     & 120+      & 30+       & 0         &  2       \\\\\n",
       "\t 35-44     & 0-39g/day & 0-9g/day  & 0         & 60       \\\\\n",
       "\t 35-44     & 0-39g/day & 10-19     & 1         & 14       \\\\\n",
       "\t 35-44     & 0-39g/day & 20-29     & 0         &  7       \\\\\n",
       "\t 35-44     & 0-39g/day & 30+       & 0         &  8       \\\\\n",
       "\t 35-44     & 40-79     & 0-9g/day  & 0         & 35       \\\\\n",
       "\t 35-44     & 40-79     & 10-19     & 3         & 23       \\\\\n",
       "\t 35-44     & 40-79     & 20-29     & 1         & 14       \\\\\n",
       "\t 35-44     & 40-79     & 30+       & 0         &  8       \\\\\n",
       "\t 35-44     & 80-119    & 0-9g/day  & 0         & 11       \\\\\n",
       "\t 35-44     & 80-119    & 10-19     & 0         &  6       \\\\\n",
       "\t 35-44     & 80-119    & 20-29     & 0         &  2       \\\\\n",
       "\t 35-44     & 80-119    & 30+       & 0         &  1       \\\\\n",
       "\t 35-44     & 120+      & 0-9g/day  & 2         &  3       \\\\\n",
       "\t 35-44     & 120+      & 10-19     & 0         &  3       \\\\\n",
       "\t 35-44     & 120+      & 20-29     & 2         &  4       \\\\\n",
       "\t ... & ... & ... & ... & ...\\\\\n",
       "\t 55-64     & 120+      & 0-9g/day  &  5        & 10       \\\\\n",
       "\t 55-64     & 120+      & 10-19     &  6        &  7       \\\\\n",
       "\t 55-64     & 120+      & 20-29     &  2        &  3       \\\\\n",
       "\t 55-64     & 120+      & 30+       &  5        &  6       \\\\\n",
       "\t 65-74     & 0-39g/day & 0-9g/day  &  5        & 48       \\\\\n",
       "\t 65-74     & 0-39g/day & 10-19     &  4        & 14       \\\\\n",
       "\t 65-74     & 0-39g/day & 20-29     &  2        &  7       \\\\\n",
       "\t 65-74     & 0-39g/day & 30+       &  0        &  2       \\\\\n",
       "\t 65-74     & 40-79     & 0-9g/day  & 17        & 34       \\\\\n",
       "\t 65-74     & 40-79     & 10-19     &  3        & 10       \\\\\n",
       "\t 65-74     & 40-79     & 20-29     &  5        &  9       \\\\\n",
       "\t 65-74     & 80-119    & 0-9g/day  &  6        & 13       \\\\\n",
       "\t 65-74     & 80-119    & 10-19     &  4        & 12       \\\\\n",
       "\t 65-74     & 80-119    & 20-29     &  2        &  3       \\\\\n",
       "\t 65-74     & 80-119    & 30+       &  1        &  1       \\\\\n",
       "\t 65-74     & 120+      & 0-9g/day  &  3        &  4       \\\\\n",
       "\t 65-74     & 120+      & 10-19     &  1        &  2       \\\\\n",
       "\t 65-74     & 120+      & 20-29     &  1        &  1       \\\\\n",
       "\t 65-74     & 120+      & 30+       &  1        &  1       \\\\\n",
       "\t 75+       & 0-39g/day & 0-9g/day  &  1        & 18       \\\\\n",
       "\t 75+       & 0-39g/day & 10-19     &  2        &  6       \\\\\n",
       "\t 75+       & 0-39g/day & 30+       &  1        &  3       \\\\\n",
       "\t 75+       & 40-79     & 0-9g/day  &  2        &  5       \\\\\n",
       "\t 75+       & 40-79     & 10-19     &  1        &  3       \\\\\n",
       "\t 75+       & 40-79     & 20-29     &  0        &  3       \\\\\n",
       "\t 75+       & 40-79     & 30+       &  1        &  1       \\\\\n",
       "\t 75+       & 80-119    & 0-9g/day  &  1        &  1       \\\\\n",
       "\t 75+       & 80-119    & 10-19     &  1        &  1       \\\\\n",
       "\t 75+       & 120+      & 0-9g/day  &  2        &  2       \\\\\n",
       "\t 75+       & 120+      & 10-19     &  1        &  1       \\\\\n",
       "\\end{tabular}\n"
      ],
      "text/markdown": [
       "\n",
       "| agegp | alcgp | tobgp | ncases | ncontrols |\n",
       "|---|---|---|---|---|\n",
       "| 25-34     | 0-39g/day | 0-9g/day  | 0         | 40        |\n",
       "| 25-34     | 0-39g/day | 10-19     | 0         | 10        |\n",
       "| 25-34     | 0-39g/day | 20-29     | 0         |  6        |\n",
       "| 25-34     | 0-39g/day | 30+       | 0         |  5        |\n",
       "| 25-34     | 40-79     | 0-9g/day  | 0         | 27        |\n",
       "| 25-34     | 40-79     | 10-19     | 0         |  7        |\n",
       "| 25-34     | 40-79     | 20-29     | 0         |  4        |\n",
       "| 25-34     | 40-79     | 30+       | 0         |  7        |\n",
       "| 25-34     | 80-119    | 0-9g/day  | 0         |  2        |\n",
       "| 25-34     | 80-119    | 10-19     | 0         |  1        |\n",
       "| 25-34     | 80-119    | 30+       | 0         |  2        |\n",
       "| 25-34     | 120+      | 0-9g/day  | 0         |  1        |\n",
       "| 25-34     | 120+      | 10-19     | 1         |  1        |\n",
       "| 25-34     | 120+      | 20-29     | 0         |  1        |\n",
       "| 25-34     | 120+      | 30+       | 0         |  2        |\n",
       "| 35-44     | 0-39g/day | 0-9g/day  | 0         | 60        |\n",
       "| 35-44     | 0-39g/day | 10-19     | 1         | 14        |\n",
       "| 35-44     | 0-39g/day | 20-29     | 0         |  7        |\n",
       "| 35-44     | 0-39g/day | 30+       | 0         |  8        |\n",
       "| 35-44     | 40-79     | 0-9g/day  | 0         | 35        |\n",
       "| 35-44     | 40-79     | 10-19     | 3         | 23        |\n",
       "| 35-44     | 40-79     | 20-29     | 1         | 14        |\n",
       "| 35-44     | 40-79     | 30+       | 0         |  8        |\n",
       "| 35-44     | 80-119    | 0-9g/day  | 0         | 11        |\n",
       "| 35-44     | 80-119    | 10-19     | 0         |  6        |\n",
       "| 35-44     | 80-119    | 20-29     | 0         |  2        |\n",
       "| 35-44     | 80-119    | 30+       | 0         |  1        |\n",
       "| 35-44     | 120+      | 0-9g/day  | 2         |  3        |\n",
       "| 35-44     | 120+      | 10-19     | 0         |  3        |\n",
       "| 35-44     | 120+      | 20-29     | 2         |  4        |\n",
       "| ... | ... | ... | ... | ... |\n",
       "| 55-64     | 120+      | 0-9g/day  |  5        | 10        |\n",
       "| 55-64     | 120+      | 10-19     |  6        |  7        |\n",
       "| 55-64     | 120+      | 20-29     |  2        |  3        |\n",
       "| 55-64     | 120+      | 30+       |  5        |  6        |\n",
       "| 65-74     | 0-39g/day | 0-9g/day  |  5        | 48        |\n",
       "| 65-74     | 0-39g/day | 10-19     |  4        | 14        |\n",
       "| 65-74     | 0-39g/day | 20-29     |  2        |  7        |\n",
       "| 65-74     | 0-39g/day | 30+       |  0        |  2        |\n",
       "| 65-74     | 40-79     | 0-9g/day  | 17        | 34        |\n",
       "| 65-74     | 40-79     | 10-19     |  3        | 10        |\n",
       "| 65-74     | 40-79     | 20-29     |  5        |  9        |\n",
       "| 65-74     | 80-119    | 0-9g/day  |  6        | 13        |\n",
       "| 65-74     | 80-119    | 10-19     |  4        | 12        |\n",
       "| 65-74     | 80-119    | 20-29     |  2        |  3        |\n",
       "| 65-74     | 80-119    | 30+       |  1        |  1        |\n",
       "| 65-74     | 120+      | 0-9g/day  |  3        |  4        |\n",
       "| 65-74     | 120+      | 10-19     |  1        |  2        |\n",
       "| 65-74     | 120+      | 20-29     |  1        |  1        |\n",
       "| 65-74     | 120+      | 30+       |  1        |  1        |\n",
       "| 75+       | 0-39g/day | 0-9g/day  |  1        | 18        |\n",
       "| 75+       | 0-39g/day | 10-19     |  2        |  6        |\n",
       "| 75+       | 0-39g/day | 30+       |  1        |  3        |\n",
       "| 75+       | 40-79     | 0-9g/day  |  2        |  5        |\n",
       "| 75+       | 40-79     | 10-19     |  1        |  3        |\n",
       "| 75+       | 40-79     | 20-29     |  0        |  3        |\n",
       "| 75+       | 40-79     | 30+       |  1        |  1        |\n",
       "| 75+       | 80-119    | 0-9g/day  |  1        |  1        |\n",
       "| 75+       | 80-119    | 10-19     |  1        |  1        |\n",
       "| 75+       | 120+      | 0-9g/day  |  2        |  2        |\n",
       "| 75+       | 120+      | 10-19     |  1        |  1        |\n",
       "\n"
      ],
      "text/plain": [
       "    agegp alcgp     tobgp    ncases ncontrols\n",
       "1   25-34 0-39g/day 0-9g/day 0      40       \n",
       "2   25-34 0-39g/day 10-19    0      10       \n",
       "3   25-34 0-39g/day 20-29    0       6       \n",
       "4   25-34 0-39g/day 30+      0       5       \n",
       "5   25-34 40-79     0-9g/day 0      27       \n",
       "6   25-34 40-79     10-19    0       7       \n",
       "7   25-34 40-79     20-29    0       4       \n",
       "8   25-34 40-79     30+      0       7       \n",
       "9   25-34 80-119    0-9g/day 0       2       \n",
       "10  25-34 80-119    10-19    0       1       \n",
       "11  25-34 80-119    30+      0       2       \n",
       "12  25-34 120+      0-9g/day 0       1       \n",
       "13  25-34 120+      10-19    1       1       \n",
       "14  25-34 120+      20-29    0       1       \n",
       "15  25-34 120+      30+      0       2       \n",
       "16  35-44 0-39g/day 0-9g/day 0      60       \n",
       "17  35-44 0-39g/day 10-19    1      14       \n",
       "18  35-44 0-39g/day 20-29    0       7       \n",
       "19  35-44 0-39g/day 30+      0       8       \n",
       "20  35-44 40-79     0-9g/day 0      35       \n",
       "21  35-44 40-79     10-19    3      23       \n",
       "22  35-44 40-79     20-29    1      14       \n",
       "23  35-44 40-79     30+      0       8       \n",
       "24  35-44 80-119    0-9g/day 0      11       \n",
       "25  35-44 80-119    10-19    0       6       \n",
       "26  35-44 80-119    20-29    0       2       \n",
       "27  35-44 80-119    30+      0       1       \n",
       "28  35-44 120+      0-9g/day 2       3       \n",
       "29  35-44 120+      10-19    0       3       \n",
       "30  35-44 120+      20-29    2       4       \n",
       "... ...   ...       ...      ...    ...      \n",
       "59  55-64 120+      0-9g/day  5     10       \n",
       "60  55-64 120+      10-19     6      7       \n",
       "61  55-64 120+      20-29     2      3       \n",
       "62  55-64 120+      30+       5      6       \n",
       "63  65-74 0-39g/day 0-9g/day  5     48       \n",
       "64  65-74 0-39g/day 10-19     4     14       \n",
       "65  65-74 0-39g/day 20-29     2      7       \n",
       "66  65-74 0-39g/day 30+       0      2       \n",
       "67  65-74 40-79     0-9g/day 17     34       \n",
       "68  65-74 40-79     10-19     3     10       \n",
       "69  65-74 40-79     20-29     5      9       \n",
       "70  65-74 80-119    0-9g/day  6     13       \n",
       "71  65-74 80-119    10-19     4     12       \n",
       "72  65-74 80-119    20-29     2      3       \n",
       "73  65-74 80-119    30+       1      1       \n",
       "74  65-74 120+      0-9g/day  3      4       \n",
       "75  65-74 120+      10-19     1      2       \n",
       "76  65-74 120+      20-29     1      1       \n",
       "77  65-74 120+      30+       1      1       \n",
       "78  75+   0-39g/day 0-9g/day  1     18       \n",
       "79  75+   0-39g/day 10-19     2      6       \n",
       "80  75+   0-39g/day 30+       1      3       \n",
       "81  75+   40-79     0-9g/day  2      5       \n",
       "82  75+   40-79     10-19     1      3       \n",
       "83  75+   40-79     20-29     0      3       \n",
       "84  75+   40-79     30+       1      1       \n",
       "85  75+   80-119    0-9g/day  1      1       \n",
       "86  75+   80-119    10-19     1      1       \n",
       "87  75+   120+      0-9g/day  2      2       \n",
       "88  75+   120+      10-19     1      1       "
      ]
     },
     "metadata": {},
     "output_type": "display_data"
    },
    {
     "data": {
      "text/plain": [
       "   agegp          alcgp         tobgp        ncases         ncontrols    \n",
       " 25-34:15   0-39g/day:23   0-9g/day:24   Min.   : 0.000   Min.   : 1.00  \n",
       " 35-44:15   40-79    :23   10-19   :24   1st Qu.: 0.000   1st Qu.: 3.00  \n",
       " 45-54:16   80-119   :21   20-29   :20   Median : 1.000   Median : 6.00  \n",
       " 55-64:16   120+     :21   30+     :20   Mean   : 2.273   Mean   :11.08  \n",
       " 65-74:15                                3rd Qu.: 4.000   3rd Qu.:14.00  \n",
       " 75+  :11                                Max.   :17.000   Max.   :60.00  "
      ]
     },
     "metadata": {},
     "output_type": "display_data"
    }
   ],
   "source": [
    "#analyze esoph dataset\n",
    "\n",
    "head(esoph, 100)\n",
    "summary(esoph)"
   ]
  },
  {
   "cell_type": "code",
   "execution_count": 136,
   "id": "3fd80f27",
   "metadata": {},
   "outputs": [
    {
     "name": "stdout",
     "output_type": "stream",
     "text": [
      "'data.frame':\t88 obs. of  5 variables:\n",
      " $ agegp    : Ord.factor w/ 6 levels \"25-34\"<\"35-44\"<..: 1 1 1 1 1 1 1 1 1 1 ...\n",
      " $ alcgp    : Ord.factor w/ 4 levels \"0-39g/day\"<\"40-79\"<..: 1 1 1 1 2 2 2 2 3 3 ...\n",
      " $ tobgp    : Ord.factor w/ 4 levels \"0-9g/day\"<\"10-19\"<..: 1 2 3 4 1 2 3 4 1 2 ...\n",
      " $ ncases   : num  0 0 0 0 0 0 0 0 0 0 ...\n",
      " $ ncontrols: num  40 10 6 5 27 7 4 7 2 1 ...\n"
     ]
    }
   ],
   "source": [
    "str(esoph)"
   ]
  },
  {
   "cell_type": "code",
   "execution_count": 144,
   "id": "697175b7",
   "metadata": {},
   "outputs": [
    {
     "data": {
      "text/html": [
       "0"
      ],
      "text/latex": [
       "0"
      ],
      "text/markdown": [
       "0"
      ],
      "text/plain": [
       "[1] 0"
      ]
     },
     "metadata": {},
     "output_type": "display_data"
    },
    {
     "data": {
      "text/html": [
       "0"
      ],
      "text/latex": [
       "0"
      ],
      "text/markdown": [
       "0"
      ],
      "text/plain": [
       "[1] 0"
      ]
     },
     "metadata": {},
     "output_type": "display_data"
    }
   ],
   "source": [
    "median(esoph[1:15,4])   # median nr of cases (column 4) in ages 25-43\n",
    "median(esoph[16:30,4])   # median nr of cases (column 4) in ages 35-44"
   ]
  },
  {
   "cell_type": "code",
   "execution_count": 151,
   "id": "659deb24",
   "metadata": {},
   "outputs": [
    {
     "data": {
      "text/html": [
       "0"
      ],
      "text/latex": [
       "0"
      ],
      "text/markdown": [
       "0"
      ],
      "text/plain": [
       "[1] 0"
      ]
     },
     "metadata": {},
     "output_type": "display_data"
    },
    {
     "data": {
      "text/html": [
       "60"
      ],
      "text/latex": [
       "60"
      ],
      "text/markdown": [
       "60"
      ],
      "text/plain": [
       "[1] 60"
      ]
     },
     "metadata": {},
     "output_type": "display_data"
    },
    {
     "data": {
      "text/html": [
       "2.27272727272727"
      ],
      "text/latex": [
       "2.27272727272727"
      ],
      "text/markdown": [
       "2.27272727272727"
      ],
      "text/plain": [
       "[1] 2.272727"
      ]
     },
     "metadata": {},
     "output_type": "display_data"
    },
    {
     "data": {
      "text/html": [
       "6"
      ],
      "text/latex": [
       "6"
      ],
      "text/markdown": [
       "6"
      ],
      "text/plain": [
       "[1] 6"
      ]
     },
     "metadata": {},
     "output_type": "display_data"
    },
    {
     "data": {
      "text/html": [
       "0.0666666666666667"
      ],
      "text/latex": [
       "0.0666666666666667"
      ],
      "text/markdown": [
       "0.0666666666666667"
      ],
      "text/plain": [
       "[1] 0.06666667"
      ]
     },
     "metadata": {},
     "output_type": "display_data"
    }
   ],
   "source": [
    "min(esoph$ncases)        # minimum nr of cases observed\n",
    "max(esoph[,5])           # maximum nr of controls (column 5) observed\n",
    "mean(esoph$ncases)       # mean/average of the nr of cases\n",
    "median(esoph$ncontrols)  # median of all controls\n",
    "mean(esoph$ncases[1:15]) # mean nr of cases in ages 25-34 (rows 1 to 15)"
   ]
  },
  {
   "cell_type": "code",
   "execution_count": null,
   "id": "4150a77d",
   "metadata": {},
   "outputs": [],
   "source": []
  }
 ],
 "metadata": {
  "kernelspec": {
   "display_name": "R",
   "language": "R",
   "name": "ir"
  },
  "language_info": {
   "codemirror_mode": "r",
   "file_extension": ".r",
   "mimetype": "text/x-r-source",
   "name": "R",
   "pygments_lexer": "r",
   "version": "3.6.1"
  }
 },
 "nbformat": 4,
 "nbformat_minor": 5
}
