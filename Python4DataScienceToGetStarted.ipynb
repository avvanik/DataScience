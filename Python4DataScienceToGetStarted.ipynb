{
 "cells": [
  {
   "cell_type": "code",
   "execution_count": null,
   "metadata": {},
   "outputs": [],
   "source": [
    "#create table\n",
    "\n",
    "import pandas as pd\n",
    "\n",
    "countries = {'Country': ['Germany','Portugal','Peru','Argentina', 'Vietnam', 'India'],\n",
    "             'Population' : [84000000,10000000,33000000,45000000,96000000,1366000000],\n",
    "             'Capital': ['Berlin', 'Lisbon', 'Lima', 'Buenos Aires', 'Hanoi', 'New Delhi']     \n",
    "        }\n",
    "\n",
    "df = pd.DataFrame(countries, columns = ['Country', 'Population', 'Capital'])\n",
    "\n",
    "print (df)"
   ]
  }
 ],
 "metadata": {
  "kernelspec": {
   "display_name": "Python 3",
   "language": "python",
   "name": "python3"
  },
  "language_info": {
   "codemirror_mode": {
    "name": "ipython",
    "version": 3
   },
   "file_extension": ".py",
   "mimetype": "text/x-python",
   "name": "python",
   "nbconvert_exporter": "python",
   "pygments_lexer": "ipython3",
   "version": "3.8.5"
  }
 },
 "nbformat": 4,
 "nbformat_minor": 4
}
