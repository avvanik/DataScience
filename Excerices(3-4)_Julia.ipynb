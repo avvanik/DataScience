{
 "cells": [
  {
   "cell_type": "code",
   "execution_count": 157,
   "id": "6d2b46c1",
   "metadata": {},
   "outputs": [
    {
     "data": {
      "text/plain": [
       "2×4 Matrix{Float64}:\n",
       " 0.225351  0.571968  0.206169  0.671053\n",
       " 0.97692   0.42023   0.738251  0.126332"
      ]
     },
     "execution_count": 157,
     "metadata": {},
     "output_type": "execute_result"
    }
   ],
   "source": [
    "#Create a 2x4 two dimensional matrix with random floats in it and in the next step determine the biggest element.\n",
    "\n",
    "x = rand(2,4)\n"
   ]
  },
  {
   "cell_type": "code",
   "execution_count": 158,
   "id": "87838023",
   "metadata": {},
   "outputs": [
    {
     "data": {
      "text/plain": [
       "(0.9769204274995176, CartesianIndex(2, 1))"
      ]
     },
     "execution_count": 158,
     "metadata": {},
     "output_type": "execute_result"
    }
   ],
   "source": [
    "findmax(x)"
   ]
  },
  {
   "cell_type": "code",
   "execution_count": 137,
   "id": "c78955e2",
   "metadata": {},
   "outputs": [
    {
     "data": {
      "text/plain": [
       "2×2 Matrix{Int64}:\n",
       " 2  3\n",
       " 5  6"
      ]
     },
     "execution_count": 137,
     "metadata": {},
     "output_type": "execute_result"
    }
   ],
   "source": [
    "#Create two matrices of the same layout \n",
    "#and test if addition and subtraction of the matrix works as expected: C = A + B\n",
    "\n",
    "C = [2 3; 5 6]\n"
   ]
  },
  {
   "cell_type": "code",
   "execution_count": 138,
   "id": "9a811c10",
   "metadata": {},
   "outputs": [
    {
     "data": {
      "text/plain": [
       "2×2 Matrix{Int64}:\n",
       "  9   8\n",
       " 11  12"
      ]
     },
     "execution_count": 138,
     "metadata": {},
     "output_type": "execute_result"
    }
   ],
   "source": [
    "B = [9 8; 11 12]"
   ]
  },
  {
   "cell_type": "code",
   "execution_count": 139,
   "id": "7ffc6739",
   "metadata": {},
   "outputs": [
    {
     "data": {
      "text/plain": [
       "2×2 Matrix{Int64}:\n",
       " 11  11\n",
       " 16  18"
      ]
     },
     "execution_count": 139,
     "metadata": {},
     "output_type": "execute_result"
    }
   ],
   "source": [
    "C + B"
   ]
  },
  {
   "cell_type": "code",
   "execution_count": 142,
   "id": "6ff0b54b",
   "metadata": {},
   "outputs": [
    {
     "data": {
      "text/plain": [
       "2×2 Matrix{Int64}:\n",
       "  51   52\n",
       " 111  112"
      ]
     },
     "execution_count": 142,
     "metadata": {},
     "output_type": "execute_result"
    }
   ],
   "source": [
    "#Now compare matrix multiplication either this way A * B and this way A .* B. Whats the difference?!\n",
    "\n",
    "G = C * B\n",
    "\n"
   ]
  },
  {
   "cell_type": "code",
   "execution_count": 144,
   "id": "a2b6a2c4",
   "metadata": {},
   "outputs": [
    {
     "data": {
      "text/plain": [
       "2×2 Matrix{Int64}:\n",
       " 58   75\n",
       " 82  105"
      ]
     },
     "execution_count": 144,
     "metadata": {},
     "output_type": "execute_result"
    }
   ],
   "source": [
    "H = B * C\n",
    "\n",
    "#difference between E * F and F* E --> product matrix. \n",
    "#Product is calculated colums of first matrix * rows of second\n"
   ]
  },
  {
   "cell_type": "code",
   "execution_count": 145,
   "id": "9052dbab",
   "metadata": {},
   "outputs": [
    {
     "data": {
      "text/plain": [
       "2×2 Matrix{Float64}:\n",
       " -1.86667   0.866667\n",
       "  1.85     -0.85"
      ]
     },
     "execution_count": 145,
     "metadata": {},
     "output_type": "execute_result"
    }
   ],
   "source": [
    "#What about matrix division with \"/\" or \"\\\"?!\n",
    "#division of two matrices --> calculating the inverse of product matrix G(C*B) ??\n",
    "\n",
    "inv(G)"
   ]
  },
  {
   "cell_type": "code",
   "execution_count": 151,
   "id": "f34537d5",
   "metadata": {},
   "outputs": [
    {
     "data": {
      "text/plain": [
       "2×2 Matrix{Float64}:\n",
       " -0.8   -0.6\n",
       "  1.15   1.05"
      ]
     },
     "execution_count": 151,
     "metadata": {},
     "output_type": "execute_result"
    }
   ],
   "source": [
    "#inverse remains the same when calculating with H (B*C)\n",
    "\n",
    "\n",
    "inv(H)"
   ]
  },
  {
   "cell_type": "code",
   "execution_count": 153,
   "id": "9fc34e8e",
   "metadata": {},
   "outputs": [
    {
     "data": {
      "text/plain": [
       "2×2 Matrix{Float64}:\n",
       " -0.8   -0.6\n",
       "  1.15   1.05"
      ]
     },
     "execution_count": 153,
     "metadata": {},
     "output_type": "execute_result"
    }
   ],
   "source": [
    "#for testing:\n",
    "\n",
    "B\\C"
   ]
  },
  {
   "cell_type": "code",
   "execution_count": 152,
   "id": "21c9b196",
   "metadata": {},
   "outputs": [
    {
     "data": {
      "text/plain": [
       "2×2 Matrix{Float64}:\n",
       " -4.66667  3.66667\n",
       " -2.0      3.0"
      ]
     },
     "execution_count": 152,
     "metadata": {},
     "output_type": "execute_result"
    }
   ],
   "source": [
    "B/C"
   ]
  },
  {
   "cell_type": "code",
   "execution_count": 100,
   "id": "156ba7a8",
   "metadata": {},
   "outputs": [
    {
     "data": {
      "text/plain": [
       "3×3 Matrix{Int64}:\n",
       " 10  11  12\n",
       " 13  14  15\n",
       " 16  17  18"
      ]
     },
     "execution_count": 100,
     "metadata": {},
     "output_type": "execute_result"
    }
   ],
   "source": [
    "#Create a 3x3 integer matrix A with useful numbers. Now try A+1, A-1, A*2, A/2.\n",
    "\n",
    "A = [10 11 12; 13 14 15; 16 17 18]"
   ]
  },
  {
   "cell_type": "code",
   "execution_count": 147,
   "id": "e7985ac3",
   "metadata": {},
   "outputs": [
    {
     "data": {
      "text/plain": [
       "3×3 Matrix{Int64}:\n",
       " 11  12  13\n",
       " 14  15  16\n",
       " 17  18  19"
      ]
     },
     "execution_count": 147,
     "metadata": {},
     "output_type": "execute_result"
    }
   ],
   "source": [
    "#A+1\n",
    "\n",
    "A + [1 1 1; 1 1 1; 1 1 1]"
   ]
  },
  {
   "cell_type": "code",
   "execution_count": 148,
   "id": "fb6dd165",
   "metadata": {},
   "outputs": [
    {
     "data": {
      "text/plain": [
       "3×3 Matrix{Int64}:\n",
       "  9  10  11\n",
       " 12  13  14\n",
       " 15  16  17"
      ]
     },
     "execution_count": 148,
     "metadata": {},
     "output_type": "execute_result"
    }
   ],
   "source": [
    "#A-1\n",
    "\n",
    "A - [1 1 1; 1 1 1; 1 1 1]"
   ]
  },
  {
   "cell_type": "code",
   "execution_count": 119,
   "id": "c500cc1e",
   "metadata": {},
   "outputs": [
    {
     "data": {
      "text/plain": [
       "3×3 Matrix{Int64}:\n",
       " 20  22  24\n",
       " 26  28  30\n",
       " 32  34  36"
      ]
     },
     "execution_count": 119,
     "metadata": {},
     "output_type": "execute_result"
    }
   ],
   "source": [
    "#A*2\n",
    "\n",
    "A * 2"
   ]
  },
  {
   "cell_type": "code",
   "execution_count": 123,
   "id": "cc6d2e02",
   "metadata": {},
   "outputs": [
    {
     "data": {
      "text/plain": [
       "3×3 Matrix{Float64}:\n",
       " 5.0  5.5  6.0\n",
       " 6.5  7.0  7.5\n",
       " 8.0  8.5  9.0"
      ]
     },
     "execution_count": 123,
     "metadata": {},
     "output_type": "execute_result"
    }
   ],
   "source": [
    "#A/2\n",
    "\n",
    "A / 2"
   ]
  },
  {
   "cell_type": "code",
   "execution_count": 105,
   "id": "69155298",
   "metadata": {},
   "outputs": [
    {
     "data": {
      "text/plain": [
       "3×4 Matrix{Int64}:\n",
       " 1   2   3   4\n",
       " 5   6   7   8\n",
       " 9  10  11  12"
      ]
     },
     "execution_count": 105,
     "metadata": {},
     "output_type": "execute_result"
    }
   ],
   "source": [
    "#Now multiply a 3x4 matrix with a suitable (4)vector.\n",
    "\n",
    "M = [1 2 3 4; 5 6 7 8; 9 10 11 12]"
   ]
  },
  {
   "cell_type": "code",
   "execution_count": 107,
   "id": "8ea68f43",
   "metadata": {},
   "outputs": [
    {
     "data": {
      "text/plain": [
       "4-element Vector{Int64}:\n",
       " 13\n",
       " 14\n",
       " 15\n",
       " 16"
      ]
     },
     "execution_count": 107,
     "metadata": {},
     "output_type": "execute_result"
    }
   ],
   "source": [
    "V = [13; 14; 15; 16]"
   ]
  },
  {
   "cell_type": "code",
   "execution_count": 120,
   "id": "1c15bffe",
   "metadata": {},
   "outputs": [
    {
     "data": {
      "text/plain": [
       "3-element Vector{Int64}:\n",
       " 150\n",
       " 382\n",
       " 614"
      ]
     },
     "execution_count": 120,
     "metadata": {},
     "output_type": "execute_result"
    }
   ],
   "source": [
    "M * V"
   ]
  }
 ],
 "metadata": {
  "kernelspec": {
   "display_name": "Julia 1.6.1",
   "language": "julia",
   "name": "julia-1.6"
  },
  "language_info": {
   "file_extension": ".jl",
   "mimetype": "application/julia",
   "name": "julia",
   "version": "1.6.1"
  }
 },
 "nbformat": 4,
 "nbformat_minor": 5
}
