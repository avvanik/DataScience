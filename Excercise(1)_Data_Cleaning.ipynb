{
 "cells": [
  {
   "cell_type": "code",
   "execution_count": 103,
   "metadata": {},
   "outputs": [
    {
     "name": "stdout",
     "output_type": "stream",
     "text": [
      "      id              full_name  first_name    last_name  \\\n",
      "0    1.0        Mariel Finnigan      Mariel     Finnigan   \n",
      "1    2.0          Kenyon Possek      Kenyon       Possek   \n",
      "2    3.0         Lalo Manifould        Lalo    Manifould   \n",
      "3    4.0         Nickola Carous     Nickola       Carous   \n",
      "4    5.0          Norman Dubbin      Norman       Dubbin   \n",
      "5    6.0           Hasty Perdue       Hasty       Perdue   \n",
      "6    7.0         Franz Castello       Franz     Castello   \n",
      "7    8.0           Jorge Tarney       Jorge       Tarney   \n",
      "8    9.0     Eunice Blakebrough      Eunice  Blakebrough   \n",
      "9   10.0  Kristopher Frankcombe  Kristopher   Frankcombe   \n",
      "10  11.0           Palm Domotor        Palm      Domotor   \n",
      "11  12.0          Luz Lansdowne         Luz    Lansdowne   \n",
      "12  13.0         Modestia Keble    Modestia        Keble   \n",
      "13  14.0           Stacee Bovis      Stacee        Bovis   \n",
      "14  15.0              Eden Wace        Eden         Wace   \n",
      "15  16.0              Eden Wace        Eden         Wace   \n",
      "16  17.0        Tobias Sherburn      Tobias     Sherburn   \n",
      "17   NaN                    NaN         NaN          NaN   \n",
      "18  19.0         Clair Skillern       Clair     Skillern   \n",
      "19  20.0        Mathew Addicott      Mathew     Addicott   \n",
      "20  21.0       Kerianne Goacher    Kerianne      Goacher   \n",
      "21   NaN          Maurits Shawl     Maurits        Shawl   \n",
      "22   NaN                    NaN         NaN          NaN   \n",
      "\n",
      "                             email  gender  age  \n",
      "0              mfinnigan0@usda.gov  Female   60  \n",
      "1                kpossek1@ucoz.com    Male   12  \n",
      "2              lmanifould2@pbs.org    Male   26  \n",
      "3                ncarous3@phoca.cz    Male    4  \n",
      "4           ndubbin4@wikipedia.org    Male   17  \n",
      "5                  hperdue5@qq.com     NaN   77  \n",
      "6              fcastello6@1688.com    Male   25  \n",
      "7                  jtarney7@ft.com    Male   77  \n",
      "8           eblakebrough8@sohu.com  Female   45  \n",
      "9           kfrankcombe9@slate.com    Male  old  \n",
      "10             pdomotora@github.io    Male    6  \n",
      "11     llansdowneb@theguardian.com  Female   16  \n",
      "12                 mkeblec@cmu.edu  Female   91  \n",
      "13           sbovisd@webeden.co.uk  Female   22  \n",
      "14             ewacee@marriott.com  Female   16  \n",
      "15             ewacee@marriott.com  Female   16  \n",
      "16         tsherburnf@facebook.com    Male    2  \n",
      "17                             NaN     NaN  NaN  \n",
      "18              cskillerng@nih.gov    Male  -78  \n",
      "19  maddicotth@acquirethisname.com    Male   65  \n",
      "20                             NaN  Female   45  \n",
      "21                mshawlj@dmoz.org    Male   72  \n",
      "22                             NaN     NaN  NaN  \n"
     ]
    }
   ],
   "source": [
    "import pandas as pd\n",
    "df = pd.read_csv('https://raw.githubusercontent.com/edlich/eternalrepo/master/DS-WAHLFACH/dsm-beuth-edl-demodata-dirty.csv')\n",
    "\n",
    "print(df)\n"
   ]
  },
  {
   "cell_type": "code",
   "execution_count": 104,
   "metadata": {},
   "outputs": [
    {
     "name": "stdout",
     "output_type": "stream",
     "text": [
      "      id  first_name    last_name                           email  gender  age\n",
      "0    1.0      Mariel     Finnigan             mfinnigan0@usda.gov  Female   60\n",
      "1    2.0      Kenyon       Possek               kpossek1@ucoz.com    Male   12\n",
      "2    3.0        Lalo    Manifould             lmanifould2@pbs.org    Male   26\n",
      "3    4.0     Nickola       Carous               ncarous3@phoca.cz    Male    4\n",
      "4    5.0      Norman       Dubbin          ndubbin4@wikipedia.org    Male   17\n",
      "5    6.0       Hasty       Perdue                 hperdue5@qq.com     NaN   77\n",
      "6    7.0       Franz     Castello             fcastello6@1688.com    Male   25\n",
      "7    8.0       Jorge       Tarney                 jtarney7@ft.com    Male   77\n",
      "8    9.0      Eunice  Blakebrough          eblakebrough8@sohu.com  Female   45\n",
      "9   10.0  Kristopher   Frankcombe          kfrankcombe9@slate.com    Male  old\n",
      "10  11.0        Palm      Domotor             pdomotora@github.io    Male    6\n",
      "11  12.0         Luz    Lansdowne     llansdowneb@theguardian.com  Female   16\n",
      "12  13.0    Modestia        Keble                 mkeblec@cmu.edu  Female   91\n",
      "13  14.0      Stacee        Bovis           sbovisd@webeden.co.uk  Female   22\n",
      "14  15.0        Eden         Wace             ewacee@marriott.com  Female   16\n",
      "15  16.0        Eden         Wace             ewacee@marriott.com  Female   16\n",
      "16  17.0      Tobias     Sherburn         tsherburnf@facebook.com    Male    2\n",
      "17   NaN         NaN          NaN                             NaN     NaN  NaN\n",
      "18  19.0       Clair     Skillern              cskillerng@nih.gov    Male  -78\n",
      "19  20.0      Mathew     Addicott  maddicotth@acquirethisname.com    Male   65\n",
      "20  21.0    Kerianne      Goacher                             NaN  Female   45\n",
      "21   NaN     Maurits        Shawl                mshawlj@dmoz.org    Male   72\n",
      "22   NaN         NaN          NaN                             NaN     NaN  NaN\n"
     ]
    }
   ],
   "source": [
    "#1 delete column full_name\n",
    "\n",
    "del df['full_name']\n",
    "\n",
    "print(df)"
   ]
  },
  {
   "cell_type": "code",
   "execution_count": 105,
   "metadata": {},
   "outputs": [
    {
     "name": "stdout",
     "output_type": "stream",
     "text": [
      "      id  first_name    last_name                           email  gender  age\n",
      "0    1.0      Mariel     Finnigan             mfinnigan0@usda.gov  Female   60\n",
      "1    2.0      Kenyon       Possek               kpossek1@ucoz.com    Male   12\n",
      "2    3.0        Lalo    Manifould             lmanifould2@pbs.org    Male   26\n",
      "3    4.0     Nickola       Carous               ncarous3@phoca.cz    Male    4\n",
      "4    5.0      Norman       Dubbin          ndubbin4@wikipedia.org    Male   17\n",
      "5    6.0       Hasty       Perdue                 hperdue5@qq.com     NaN   77\n",
      "6    7.0       Franz     Castello             fcastello6@1688.com    Male   25\n",
      "7    8.0       Jorge       Tarney                 jtarney7@ft.com    Male   77\n",
      "8    9.0      Eunice  Blakebrough          eblakebrough8@sohu.com  Female   45\n",
      "9   10.0  Kristopher   Frankcombe          kfrankcombe9@slate.com    Male  old\n",
      "10  11.0        Palm      Domotor             pdomotora@github.io    Male    6\n",
      "11  12.0         Luz    Lansdowne     llansdowneb@theguardian.com  Female   16\n",
      "12  13.0    Modestia        Keble                 mkeblec@cmu.edu  Female   91\n",
      "13  14.0      Stacee        Bovis           sbovisd@webeden.co.uk  Female   22\n",
      "14  15.0        Eden         Wace             ewacee@marriott.com  Female   16\n",
      "15  16.0        Eden         Wace             ewacee@marriott.com  Female   16\n",
      "16  17.0      Tobias     Sherburn         tsherburnf@facebook.com    Male    2\n",
      "18  19.0       Clair     Skillern              cskillerng@nih.gov    Male  -78\n",
      "19  20.0      Mathew     Addicott  maddicotth@acquirethisname.com    Male   65\n",
      "20  21.0    Kerianne      Goacher                             NaN  Female   45\n",
      "21   NaN     Maurits        Shawl                mshawlj@dmoz.org    Male   72\n"
     ]
    }
   ],
   "source": [
    "#2 delete useless rows --> where all values 'NaN'\n",
    "\n",
    "#df.drop(df[df['last_name'] == 'NaN'].index, inplace=True)\n",
    "\n",
    "df = df[df['last_name'].notna()]\n",
    "\n",
    "print(df)\n"
   ]
  },
  {
   "cell_type": "code",
   "execution_count": 106,
   "metadata": {},
   "outputs": [
    {
     "name": "stdout",
     "output_type": "stream",
     "text": [
      "      id  first_name    last_name                           email  gender  age\n",
      "0    1.0      Mariel     Finnigan             mfinnigan0@usda.gov  Female   60\n",
      "1    2.0      Kenyon       Possek               kpossek1@ucoz.com    Male   12\n",
      "2    3.0        Lalo    Manifould             lmanifould2@pbs.org    Male   26\n",
      "3    4.0     Nickola       Carous               ncarous3@phoca.cz    Male    4\n",
      "4    5.0      Norman       Dubbin          ndubbin4@wikipedia.org    Male   17\n",
      "5    6.0       Hasty       Perdue                 hperdue5@qq.com     NaN   77\n",
      "6    7.0       Franz     Castello             fcastello6@1688.com    Male   25\n",
      "7    8.0       Jorge       Tarney                 jtarney7@ft.com    Male   77\n",
      "8    9.0      Eunice  Blakebrough          eblakebrough8@sohu.com  Female   45\n",
      "9   10.0  Kristopher   Frankcombe          kfrankcombe9@slate.com    Male  old\n",
      "10  11.0        Palm      Domotor             pdomotora@github.io    Male    6\n",
      "11  12.0         Luz    Lansdowne     llansdowneb@theguardian.com  Female   16\n",
      "12  13.0    Modestia        Keble                 mkeblec@cmu.edu  Female   91\n",
      "13  14.0      Stacee        Bovis           sbovisd@webeden.co.uk  Female   22\n",
      "14  15.0        Eden         Wace             ewacee@marriott.com  Female   16\n",
      "16  17.0      Tobias     Sherburn         tsherburnf@facebook.com    Male    2\n",
      "18  19.0       Clair     Skillern              cskillerng@nih.gov    Male  -78\n",
      "19  20.0      Mathew     Addicott  maddicotth@acquirethisname.com    Male   65\n",
      "20  21.0    Kerianne      Goacher                             NaN  Female   45\n",
      "21   NaN     Maurits        Shawl                mshawlj@dmoz.org    Male   72\n"
     ]
    }
   ],
   "source": [
    "#3 delete dublicates\n",
    "\n",
    "df = df.drop_duplicates(subset='last_name', keep=\"first\")\n",
    "\n",
    "print(df)"
   ]
  },
  {
   "cell_type": "code",
   "execution_count": 107,
   "metadata": {},
   "outputs": [
    {
     "name": "stdout",
     "output_type": "stream",
     "text": [
      "      id  first_name    last_name                           email  gender  age\n",
      "0    1.0      Mariel     Finnigan             mfinnigan0@usda.gov  Female   60\n",
      "1    2.0      Kenyon       Possek               kpossek1@ucoz.com    Male   12\n",
      "2    3.0        Lalo    Manifould             lmanifould2@pbs.org    Male   26\n",
      "3    4.0     Nickola       Carous               ncarous3@phoca.cz    Male    4\n",
      "4    5.0      Norman       Dubbin          ndubbin4@wikipedia.org    Male   17\n",
      "5    6.0       Hasty       Perdue                 hperdue5@qq.com     NaN   77\n",
      "6    7.0       Franz     Castello             fcastello6@1688.com    Male   25\n",
      "7    8.0       Jorge       Tarney                 jtarney7@ft.com    Male   77\n",
      "8    9.0      Eunice  Blakebrough          eblakebrough8@sohu.com  Female   45\n",
      "9   10.0  Kristopher   Frankcombe          kfrankcombe9@slate.com    Male  NaN\n",
      "10  11.0        Palm      Domotor             pdomotora@github.io    Male    6\n",
      "11  12.0         Luz    Lansdowne     llansdowneb@theguardian.com  Female   16\n",
      "12  13.0    Modestia        Keble                 mkeblec@cmu.edu  Female   91\n",
      "13  14.0      Stacee        Bovis           sbovisd@webeden.co.uk  Female   22\n",
      "14  15.0        Eden         Wace             ewacee@marriott.com  Female   16\n",
      "16  17.0      Tobias     Sherburn         tsherburnf@facebook.com    Male    2\n",
      "18  19.0       Clair     Skillern              cskillerng@nih.gov    Male  NaN\n",
      "19  20.0      Mathew     Addicott  maddicotth@acquirethisname.com    Male   65\n",
      "20  21.0    Kerianne      Goacher                             NaN  Female   45\n",
      "21   NaN     Maurits        Shawl                mshawlj@dmoz.org    Male   72\n"
     ]
    }
   ],
   "source": [
    "#4 change column age where value 'old' and '-78' to NaN\n",
    "\n",
    "df['age'] = df['age'].replace(['old', '-78'],'NaN')\n",
    "\n",
    "print(df)"
   ]
  },
  {
   "cell_type": "code",
   "execution_count": null,
   "metadata": {},
   "outputs": [],
   "source": [
    "#5 drop id column and create it new \n",
    "\n",
    "del df['id']\n",
    "print(df)\n"
   ]
  },
  {
   "cell_type": "code",
   "execution_count": 115,
   "metadata": {},
   "outputs": [
    {
     "name": "stdout",
     "output_type": "stream",
     "text": [
      "    first_name    last_name                           email  gender  age  id\n",
      "0       Mariel     Finnigan             mfinnigan0@usda.gov  Female   60  11\n",
      "1       Kenyon       Possek               kpossek1@ucoz.com    Male   12   6\n",
      "2         Lalo    Manifould             lmanifould2@pbs.org    Male   26   9\n",
      "3      Nickola       Carous               ncarous3@phoca.cz    Male    4  15\n",
      "4       Norman       Dubbin          ndubbin4@wikipedia.org    Male   17  16\n",
      "5        Hasty       Perdue                 hperdue5@qq.com     NaN   77   4\n",
      "6        Franz     Castello             fcastello6@1688.com    Male   25   3\n",
      "7        Jorge       Tarney                 jtarney7@ft.com    Male   77   5\n",
      "8       Eunice  Blakebrough          eblakebrough8@sohu.com  Female   45   2\n",
      "9   Kristopher   Frankcombe          kfrankcombe9@slate.com    Male  NaN   8\n",
      "10        Palm      Domotor             pdomotora@github.io    Male    6  17\n",
      "11         Luz    Lansdowne     llansdowneb@theguardian.com  Female   16  10\n",
      "12    Modestia        Keble                 mkeblec@cmu.edu  Female   91  14\n",
      "13      Stacee        Bovis           sbovisd@webeden.co.uk  Female   22  18\n",
      "14        Eden         Wace             ewacee@marriott.com  Female   16   1\n",
      "16      Tobias     Sherburn         tsherburnf@facebook.com    Male    2  19\n",
      "18       Clair     Skillern              cskillerng@nih.gov    Male  NaN   0\n",
      "19      Mathew     Addicott  maddicotth@acquirethisname.com    Male   65  12\n",
      "20    Kerianne      Goacher                             NaN  Female   45   7\n",
      "21     Maurits        Shawl                mshawlj@dmoz.org    Male   72  13\n"
     ]
    }
   ],
   "source": [
    "#5 create new id's based on first_name + last_name\n",
    "\n",
    "df['id'] = df.groupby(['first_name','last_name']).ngroup()\n",
    "\n",
    "print(df)\n",
    "\n",
    "# --> also create new unique id where id == 0"
   ]
  },
  {
   "cell_type": "code",
   "execution_count": 117,
   "metadata": {},
   "outputs": [
    {
     "name": "stdout",
     "output_type": "stream",
     "text": [
      "    id    last_name  first_name                           email  gender  age\n",
      "0   11     Finnigan      Mariel             mfinnigan0@usda.gov  Female   60\n",
      "1    6       Possek      Kenyon               kpossek1@ucoz.com    Male   12\n",
      "2    9    Manifould        Lalo             lmanifould2@pbs.org    Male   26\n",
      "3   15       Carous     Nickola               ncarous3@phoca.cz    Male    4\n",
      "4   16       Dubbin      Norman          ndubbin4@wikipedia.org    Male   17\n",
      "5    4       Perdue       Hasty                 hperdue5@qq.com     NaN   77\n",
      "6    3     Castello       Franz             fcastello6@1688.com    Male   25\n",
      "7    5       Tarney       Jorge                 jtarney7@ft.com    Male   77\n",
      "8    2  Blakebrough      Eunice          eblakebrough8@sohu.com  Female   45\n",
      "9    8   Frankcombe  Kristopher          kfrankcombe9@slate.com    Male  NaN\n",
      "10  17      Domotor        Palm             pdomotora@github.io    Male    6\n",
      "11  10    Lansdowne         Luz     llansdowneb@theguardian.com  Female   16\n",
      "12  14        Keble    Modestia                 mkeblec@cmu.edu  Female   91\n",
      "13  18        Bovis      Stacee           sbovisd@webeden.co.uk  Female   22\n",
      "14   1         Wace        Eden             ewacee@marriott.com  Female   16\n",
      "16  19     Sherburn      Tobias         tsherburnf@facebook.com    Male    2\n",
      "18   0     Skillern       Clair              cskillerng@nih.gov    Male  NaN\n",
      "19  12     Addicott      Mathew  maddicotth@acquirethisname.com    Male   65\n",
      "20   7      Goacher    Kerianne                             NaN  Female   45\n",
      "21  13        Shawl     Maurits                mshawlj@dmoz.org    Male   72\n"
     ]
    }
   ],
   "source": [
    "#6 reorder columns\n",
    "\n",
    "df = df[['id', 'last_name', 'first_name', 'email', 'gender', 'age']]\n",
    "\n",
    "print(df)\n",
    "\n"
   ]
  },
  {
   "cell_type": "code",
   "execution_count": 128,
   "metadata": {},
   "outputs": [
    {
     "name": "stdout",
     "output_type": "stream",
     "text": [
      "    id    last_name  first_name                           email  gender  age\n",
      "0   11     Finnigan      Mariel             mfinnigan0@usda.gov  Female   60\n",
      "1    6       Possek      Kenyon               kpossek1@ucoz.com    Male   12\n",
      "2    9    Manifould        Lalo             lmanifould2@pbs.org    Male   26\n",
      "3   15       Carous     Nickola               ncarous3@phoca.cz    Male    4\n",
      "4   16       Dubbin      Norman          ndubbin4@wikipedia.org    Male   17\n",
      "5    4       Perdue       Hasty                 hperdue5@qq.com     NaN   77\n",
      "6    3     Castello       Franz             fcastello6@1688.com    Male   25\n",
      "7    5       Tarney       Jorge                 jtarney7@ft.com    Male   77\n",
      "8    2  Blakebrough      Eunice          eblakebrough8@sohu.com  Female   45\n",
      "9    8   Frankcombe  Kristopher          kfrankcombe9@slate.com    Male  NaN\n",
      "10  17      Domotor        Palm             pdomotora@github.io    Male    6\n",
      "11  10    Lansdowne         Luz     llansdowneb@theguardian.com  Female   16\n",
      "12  14        Keble    Modestia                 mkeblec@cmu.edu  Female   91\n",
      "13  18        Bovis      Stacee           sbovisd@webeden.co.uk  Female   22\n",
      "14   1         Wace        Eden             ewacee@marriott.com  Female   16\n",
      "16  19     Sherburn      Tobias         tsherburnf@facebook.com    Male    2\n",
      "18   0     Skillern       Clair              cskillerng@nih.gov    Male  NaN\n",
      "19  12     Addicott      Mathew  maddicotth@acquirethisname.com    Male   65\n",
      "20   7      Goacher    Kerianne                             NaN  Female   45\n",
      "21  13        Shawl     Maurits                mshawlj@dmoz.org    Male   72\n"
     ]
    }
   ],
   "source": [
    "#7 order alpabetically from last_name\n",
    "\n",
    "df.sort_values(by='last_name')\n",
    "\n",
    "print(df)\n",
    "\n",
    "#doesn't work dk why!?"
   ]
  },
  {
   "cell_type": "code",
   "execution_count": null,
   "metadata": {},
   "outputs": [],
   "source": [
    "#8 replace NaN in age with average age\n",
    "\n",
    "df['age'].fillna(int(df['age'].mean()), inplace=True)\n",
    "\n",
    "print(df)"
   ]
  },
  {
   "cell_type": "code",
   "execution_count": 142,
   "metadata": {
    "scrolled": true
   },
   "outputs": [
    {
     "name": "stdout",
     "output_type": "stream",
     "text": [
      "    id    last_name  first_name                           email  gender  age\n",
      "0   11     Finnigan      Mariel             mfinnigan0@usda.gov  Female   60\n",
      "1    6       Possek      Kenyon               kpossek1@ucoz.com    Male   12\n",
      "2    9    Manifould        Lalo             lmanifould2@pbs.org    Male   26\n",
      "3   15       Carous     Nickola               ncarous3@phoca.cz    Male    4\n",
      "4   16       Dubbin      Norman          ndubbin4@wikipedia.org    Male   17\n",
      "5    4       Perdue       Hasty                 hperdue5@qq.com     NaN   77\n",
      "6    3     Castello       Franz             fcastello6@1688.com    Male   25\n",
      "7    5       Tarney       Jorge                 jtarney7@ft.com    Male   77\n",
      "8    2  Blakebrough      Eunice          eblakebrough8@sohu.com  Female   45\n",
      "9    8   Frankcombe  Kristopher          kfrankcombe9@slate.com    Male  NaN\n",
      "10  17      Domotor        Palm             pdomotora@github.io    Male    6\n",
      "11  10    Lansdowne         Luz     llansdowneb@theguardian.com  Female   16\n",
      "12  14        Keble    Modestia                 mkeblec@cmu.edu  Female   91\n",
      "13  18        Bovis      Stacee           sbovisd@webeden.co.uk  Female   22\n",
      "14   1         Wace        Eden             ewacee@marriott.com  Female   16\n",
      "16  19     Sherburn      Tobias         tsherburnf@facebook.com    Male    2\n",
      "18   0     Skillern       Clair              cskillerng@nih.gov    Male  NaN\n",
      "19  12     Addicott      Mathew  maddicotth@acquirethisname.com    Male   65\n",
      "20   7      Goacher    Kerianne                         unknown  Female   45\n",
      "21  13        Shawl     Maurits                mshawlj@dmoz.org    Male   72\n"
     ]
    }
   ],
   "source": [
    "#9 replace NaN in email with unknown\n",
    "\n",
    "df['email'].fillna('unknown', inplace=True)\n",
    "\n",
    "print(df)\n",
    "\n"
   ]
  },
  {
   "cell_type": "code",
   "execution_count": null,
   "metadata": {},
   "outputs": [],
   "source": [
    "\n",
    "\n"
   ]
  },
  {
   "cell_type": "code",
   "execution_count": null,
   "metadata": {
    "scrolled": true
   },
   "outputs": [],
   "source": []
  }
 ],
 "metadata": {
  "kernelspec": {
   "display_name": "Python 3",
   "language": "python",
   "name": "python3"
  },
  "language_info": {
   "codemirror_mode": {
    "name": "ipython",
    "version": 3
   },
   "file_extension": ".py",
   "mimetype": "text/x-python",
   "name": "python",
   "nbconvert_exporter": "python",
   "pygments_lexer": "ipython3",
   "version": "3.8.5"
  }
 },
 "nbformat": 4,
 "nbformat_minor": 4
}
