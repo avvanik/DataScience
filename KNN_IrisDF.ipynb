{
 "cells": [
  {
   "cell_type": "code",
   "execution_count": 1,
   "metadata": {},
   "outputs": [
    {
     "name": "stdout",
     "output_type": "stream",
     "text": [
      "index:   0, features: [5.1 3.5 1.4 0.2], label: 0\n",
      "index:  79, features: [5.7 2.6 3.5 1. ], label: 1\n",
      "index:  99, features: [5.7 2.8 4.1 1.3], label: 1\n",
      "index: 101, features: [5.8 2.7 5.1 1.9], label: 2\n"
     ]
    }
   ],
   "source": [
    "#[4.8,2.5,5.3,2.4]\n",
    "\n",
    "import numpy as np\n",
    "from sklearn import datasets\n",
    "\n",
    "iris = datasets.load_iris()\n",
    "data = iris.data\n",
    "labels = iris.target\n",
    "\n",
    "for i in [0, 79, 99, 101]:\n",
    "    print(f\"index: {i:3}, features: {data[i]}, label: {labels[i]}\")"
   ]
  },
  {
   "cell_type": "code",
   "execution_count": 2,
   "metadata": {},
   "outputs": [
    {
     "name": "stdout",
     "output_type": "stream",
     "text": [
      "The first samples of our learn set:\n",
      "index  data                label\n",
      "   0   [6.1 2.8 4.7 1.2]     1\n",
      "   1   [5.7 3.8 1.7 0.3]     0\n",
      "   2   [7.7 2.6 6.9 2.3]     2\n",
      "   3   [6.  2.9 4.5 1.5]     1\n",
      "   4   [6.8 2.8 4.8 1.4]     1\n",
      "The first samples of our test set:\n",
      "index  data                label\n",
      "   0   [6.1 2.8 4.7 1.2]     1\n",
      "   1   [5.7 3.8 1.7 0.3]     0\n",
      "   2   [7.7 2.6 6.9 2.3]     2\n",
      "   3   [6.  2.9 4.5 1.5]     1\n",
      "   4   [6.8 2.8 4.8 1.4]     1\n"
     ]
    }
   ],
   "source": [
    "# seeding is only necessary for the website\n",
    "#so that the values are always equal:\n",
    "np.random.seed(42)\n",
    "indices = np.random.permutation(len(data))\n",
    "\n",
    "n_training_samples = 12\n",
    "learn_data = data[indices[:-n_training_samples]]\n",
    "learn_labels = labels[indices[:-n_training_samples]]\n",
    "test_data = data[indices[-n_training_samples:]]\n",
    "test_labels = labels[indices[-n_training_samples:]]\n",
    "\n",
    "print(\"The first samples of our learn set:\")\n",
    "print(f\"{'index':7s}{'data':20s}{'label':3s}\")\n",
    "for i in range(5):\n",
    "    print(f\"{i:4d}   {learn_data[i]}   {learn_labels[i]:3}\")\n",
    "\n",
    "print(\"The first samples of our test set:\")\n",
    "print(f\"{'index':7s}{'data':20s}{'label':3s}\")\n",
    "for i in range(5):\n",
    "    print(f\"{i:4d}   {learn_data[i]}   {learn_labels[i]:3}\")"
   ]
  },
  {
   "cell_type": "code",
   "execution_count": 3,
   "metadata": {},
   "outputs": [
    {
     "name": "stdout",
     "output_type": "stream",
     "text": [
      "4.47213595499958\n",
      "3.4190641994557516\n"
     ]
    }
   ],
   "source": [
    "def distance(instance1, instance2):\n",
    "    \"\"\" Calculates the Eucledian distance between two instances\"\"\" \n",
    "    return np.linalg.norm(np.subtract(instance1, instance2))\n",
    "\n",
    "print(distance([3, 5], [1, 1]))\n",
    "print(distance(learn_data[3], learn_data[44]))"
   ]
  },
  {
   "cell_type": "code",
   "execution_count": 4,
   "metadata": {},
   "outputs": [],
   "source": [
    "def get_neighbors(training_set, \n",
    "                  labels, \n",
    "                  test_instance, \n",
    "                  k, \n",
    "                  distance):\n",
    "    \"\"\"\n",
    "    get_neighors calculates a list of the k nearest neighbors\n",
    "    of an instance 'test_instance'.\n",
    "    The function returns a list of k 3-tuples.\n",
    "    Each 3-tuples consists of (index, dist, label)\n",
    "    where \n",
    "    index    is the index from the training_set, \n",
    "    dist     is the distance between the test_instance and the \n",
    "             instance training_set[index]\n",
    "    distance is a reference to a function used to calculate the \n",
    "             distances\n",
    "    \"\"\"\n",
    "    distances = []\n",
    "    for index in range(len(training_set)):\n",
    "        dist = distance(test_instance, training_set[index])\n",
    "        distances.append((training_set[index], dist, labels[index]))\n",
    "    distances.sort(key=lambda x: x[1])\n",
    "    neighbors = distances[:k]\n",
    "    return neighbors"
   ]
  },
  {
   "cell_type": "code",
   "execution_count": 5,
   "metadata": {},
   "outputs": [
    {
     "name": "stdout",
     "output_type": "stream",
     "text": [
      "Index:          0 \n",
      " Testset Data:   [5.7 2.8 4.1 1.3] \n",
      " Testset Label:  1 \n",
      " Neighbors:       [(array([5.7, 2.9, 4.2, 1.3]), 0.14142135623730995, 1), (array([5.6, 2.7, 4.2, 1.3]), 0.17320508075688815, 1), (array([5.6, 3. , 4.1, 1.3]), 0.22360679774997935, 1)] \n",
      "\n",
      "Index:          1 \n",
      " Testset Data:   [6.5 3.  5.5 1.8] \n",
      " Testset Label:  2 \n",
      " Neighbors:       [(array([6.4, 3.1, 5.5, 1.8]), 0.1414213562373093, 2), (array([6.3, 2.9, 5.6, 1.8]), 0.24494897427831783, 2), (array([6.5, 3. , 5.2, 2. ]), 0.3605551275463988, 2)] \n",
      "\n",
      "Index:          2 \n",
      " Testset Data:   [6.3 2.3 4.4 1.3] \n",
      " Testset Label:  1 \n",
      " Neighbors:       [(array([6.2, 2.2, 4.5, 1.5]), 0.2645751311064586, 1), (array([6.3, 2.5, 4.9, 1.5]), 0.574456264653803, 1), (array([6. , 2.2, 4. , 1. ]), 0.5916079783099617, 1)] \n",
      "\n",
      "Index:          3 \n",
      " Testset Data:   [6.4 2.9 4.3 1.3] \n",
      " Testset Label:  1 \n",
      " Neighbors:       [(array([6.2, 2.9, 4.3, 1.3]), 0.20000000000000018, 1), (array([6.6, 3. , 4.4, 1.4]), 0.2645751311064587, 1), (array([6.6, 2.9, 4.6, 1.3]), 0.3605551275463984, 1)] \n",
      "\n",
      "Index:          4 \n",
      " Testset Data:   [5.6 2.8 4.9 2. ] \n",
      " Testset Label:  2 \n",
      " Neighbors:       [(array([5.8, 2.7, 5.1, 1.9]), 0.3162277660168375, 2), (array([5.8, 2.7, 5.1, 1.9]), 0.3162277660168375, 2), (array([5.7, 2.5, 5. , 2. ]), 0.33166247903553986, 2)] \n",
      "\n"
     ]
    }
   ],
   "source": [
    "for i in range(5):\n",
    "    neighbors = get_neighbors(learn_data, \n",
    "                              learn_labels, \n",
    "                              test_data[i], \n",
    "                              3, \n",
    "                              distance=distance)\n",
    "    print(\"Index:         \",i,'\\n',\n",
    "          \"Testset Data:  \",test_data[i],'\\n', \n",
    "          \"Testset Label: \",test_labels[i],'\\n', \n",
    "          \"Neighbors:      \",neighbors,'\\n')"
   ]
  },
  {
   "cell_type": "code",
   "execution_count": 6,
   "metadata": {},
   "outputs": [],
   "source": [
    "from collections import Counter\n",
    "\n",
    "def vote(neighbors):\n",
    "    class_counter = Counter()\n",
    "    for neighbor in neighbors:\n",
    "        class_counter[neighbor[2]] += 1\n",
    "    return class_counter.most_common(1)[0][0]"
   ]
  },
  {
   "cell_type": "code",
   "execution_count": 7,
   "metadata": {},
   "outputs": [
    {
     "name": "stdout",
     "output_type": "stream",
     "text": [
      "index:  0 , result of vote:  1 , label:  1 , data:  [5.7 2.8 4.1 1.3]\n",
      "index:  1 , result of vote:  2 , label:  2 , data:  [6.5 3.  5.5 1.8]\n",
      "index:  2 , result of vote:  1 , label:  1 , data:  [6.3 2.3 4.4 1.3]\n",
      "index:  3 , result of vote:  1 , label:  1 , data:  [6.4 2.9 4.3 1.3]\n",
      "index:  4 , result of vote:  2 , label:  2 , data:  [5.6 2.8 4.9 2. ]\n",
      "index:  5 , result of vote:  2 , label:  2 , data:  [5.9 3.  5.1 1.8]\n",
      "index:  6 , result of vote:  0 , label:  0 , data:  [5.4 3.4 1.7 0.2]\n",
      "index:  7 , result of vote:  1 , label:  1 , data:  [6.1 2.8 4.  1.3]\n",
      "index:  8 , result of vote:  1 , label:  2 , data:  [4.9 2.5 4.5 1.7]\n",
      "index:  9 , result of vote:  0 , label:  0 , data:  [5.8 4.  1.2 0.2]\n",
      "index:  10 , result of vote:  1 , label:  1 , data:  [5.8 2.6 4.  1.2]\n",
      "index:  11 , result of vote:  2 , label:  2 , data:  [7.1 3.  5.9 2.1]\n"
     ]
    }
   ],
   "source": [
    "for i in range(n_training_samples):\n",
    "    neighbors = get_neighbors(learn_data, \n",
    "                              learn_labels, \n",
    "                              test_data[i], \n",
    "                              3, \n",
    "                              distance=distance)\n",
    "    print(\"index: \", i, \n",
    "          \", result of vote: \", vote(neighbors), \n",
    "          \", label: \", test_labels[i], \n",
    "          \", data: \", test_data[i])"
   ]
  },
  {
   "cell_type": "code",
   "execution_count": 8,
   "metadata": {},
   "outputs": [],
   "source": [
    "def vote_prob(neighbors):\n",
    "    class_counter = Counter()\n",
    "    for neighbor in neighbors:\n",
    "        class_counter[neighbor[2]] += 1\n",
    "    labels, votes = zip(*class_counter.most_common())\n",
    "    winner = class_counter.most_common(1)[0][0]\n",
    "    votes4winner = class_counter.most_common(1)[0][1]\n",
    "    return winner, votes4winner/sum(votes)"
   ]
  },
  {
   "cell_type": "code",
   "execution_count": 9,
   "metadata": {},
   "outputs": [
    {
     "name": "stdout",
     "output_type": "stream",
     "text": [
      "index:  0 , vote_prob:  (1, 1.0) , label:  1 , data:  [5.7 2.8 4.1 1.3]\n",
      "index:  1 , vote_prob:  (2, 1.0) , label:  2 , data:  [6.5 3.  5.5 1.8]\n",
      "index:  2 , vote_prob:  (1, 1.0) , label:  1 , data:  [6.3 2.3 4.4 1.3]\n",
      "index:  3 , vote_prob:  (1, 1.0) , label:  1 , data:  [6.4 2.9 4.3 1.3]\n",
      "index:  4 , vote_prob:  (2, 1.0) , label:  2 , data:  [5.6 2.8 4.9 2. ]\n",
      "index:  5 , vote_prob:  (2, 0.8) , label:  2 , data:  [5.9 3.  5.1 1.8]\n",
      "index:  6 , vote_prob:  (0, 1.0) , label:  0 , data:  [5.4 3.4 1.7 0.2]\n",
      "index:  7 , vote_prob:  (1, 1.0) , label:  1 , data:  [6.1 2.8 4.  1.3]\n",
      "index:  8 , vote_prob:  (1, 1.0) , label:  2 , data:  [4.9 2.5 4.5 1.7]\n",
      "index:  9 , vote_prob:  (0, 1.0) , label:  0 , data:  [5.8 4.  1.2 0.2]\n",
      "index:  10 , vote_prob:  (1, 1.0) , label:  1 , data:  [5.8 2.6 4.  1.2]\n",
      "index:  11 , vote_prob:  (2, 1.0) , label:  2 , data:  [7.1 3.  5.9 2.1]\n"
     ]
    }
   ],
   "source": [
    "for i in range(n_training_samples):\n",
    "    neighbors = get_neighbors(learn_data, \n",
    "                              learn_labels, \n",
    "                              test_data[i], \n",
    "                              5, \n",
    "                              distance=distance)\n",
    "    print(\"index: \", i, \n",
    "          \", vote_prob: \", vote_prob(neighbors), \n",
    "          \", label: \", test_labels[i], \n",
    "          \", data: \", test_data[i])"
   ]
  },
  {
   "cell_type": "code",
   "execution_count": 10,
   "metadata": {},
   "outputs": [],
   "source": [
    "def vote_harmonic_weights(neighbors, all_results=True):\n",
    "    class_counter = Counter()\n",
    "    number_of_neighbors = len(neighbors)\n",
    "    for index in range(number_of_neighbors):\n",
    "        class_counter[neighbors[index][2]] += 1/(index+1)\n",
    "    labels, votes = zip(*class_counter.most_common())\n",
    "    #print(labels, votes)\n",
    "    winner = class_counter.most_common(1)[0][0]\n",
    "    votes4winner = class_counter.most_common(1)[0][1]\n",
    "    if all_results:\n",
    "        total = sum(class_counter.values(), 0.0)\n",
    "        for key in class_counter:\n",
    "             class_counter[key] /= total\n",
    "        return winner, class_counter.most_common()\n",
    "    else:\n",
    "        return winner, votes4winner / sum(votes)"
   ]
  },
  {
   "cell_type": "code",
   "execution_count": 11,
   "metadata": {},
   "outputs": [
    {
     "name": "stdout",
     "output_type": "stream",
     "text": [
      "index:  0 , result of vote:  (1, [(1, 1.0)])\n",
      "index:  1 , result of vote:  (2, [(2, 1.0)])\n",
      "index:  2 , result of vote:  (1, [(1, 1.0)])\n",
      "index:  3 , result of vote:  (1, [(1, 1.0)])\n",
      "index:  4 , result of vote:  (2, [(2, 0.9319727891156463), (1, 0.06802721088435375)])\n",
      "index:  5 , result of vote:  (2, [(2, 0.8503401360544217), (1, 0.14965986394557826)])\n",
      "index:  6 , result of vote:  (0, [(0, 1.0)])\n",
      "index:  7 , result of vote:  (1, [(1, 1.0)])\n",
      "index:  8 , result of vote:  (1, [(1, 1.0)])\n",
      "index:  9 , result of vote:  (0, [(0, 1.0)])\n",
      "index:  10 , result of vote:  (1, [(1, 1.0)])\n",
      "index:  11 , result of vote:  (2, [(2, 1.0)])\n"
     ]
    }
   ],
   "source": [
    "for i in range(n_training_samples):\n",
    "    neighbors = get_neighbors(learn_data, \n",
    "                              learn_labels, \n",
    "                              test_data[i], \n",
    "                              6, \n",
    "                              distance=distance)\n",
    "    print(\"index: \", i, \n",
    "          \", result of vote: \", \n",
    "          vote_harmonic_weights(neighbors,\n",
    "                                all_results=True))"
   ]
  },
  {
   "cell_type": "code",
   "execution_count": 13,
   "metadata": {},
   "outputs": [],
   "source": [
    "def vote_distance_weights(neighbors, all_results=True):\n",
    "    class_counter = Counter()\n",
    "    number_of_neighbors = len(neighbors)\n",
    "    for index in range(number_of_neighbors):\n",
    "        dist = neighbors[index][1]\n",
    "        label = neighbors[index][2]\n",
    "        class_counter[label] += 1 / (dist**2 + 1)\n",
    "    labels, votes = zip(*class_counter.most_common())\n",
    "    #print(labels, votes)\n",
    "    winner = class_counter.most_common(1)[0][0]\n",
    "    votes4winner = class_counter.most_common(1)[0][1]\n",
    "    if all_results:\n",
    "        total = sum(class_counter.values(), 0.0)\n",
    "        for key in class_counter:\n",
    "             class_counter[key] /= total\n",
    "        return winner, class_counter.most_common()\n",
    "    else:\n",
    "        return winner, votes4winner / sum(votes)"
   ]
  },
  {
   "cell_type": "code",
   "execution_count": 15,
   "metadata": {},
   "outputs": [
    {
     "name": "stdout",
     "output_type": "stream",
     "text": [
      "index:  0 , result of vote:  (1, [(1, 1.0)])\n",
      "index:  1 , result of vote:  (2, [(2, 1.0)])\n",
      "index:  2 , result of vote:  (1, [(1, 1.0)])\n",
      "index:  3 , result of vote:  (1, [(1, 1.0)])\n",
      "index:  4 , result of vote:  (2, [(2, 0.8490154592118361), (1, 0.15098454078816387)])\n",
      "index:  5 , result of vote:  (2, [(2, 0.6736137462184478), (1, 0.3263862537815521)])\n",
      "index:  6 , result of vote:  (0, [(0, 1.0)])\n",
      "index:  7 , result of vote:  (1, [(1, 1.0)])\n",
      "index:  8 , result of vote:  (1, [(1, 1.0)])\n",
      "index:  9 , result of vote:  (0, [(0, 1.0)])\n",
      "index:  10 , result of vote:  (1, [(1, 1.0)])\n",
      "index:  11 , result of vote:  (2, [(2, 1.0)])\n"
     ]
    }
   ],
   "source": [
    "for i in range(n_training_samples):\n",
    "    neighbors = get_neighbors(learn_data, \n",
    "                              learn_labels, \n",
    "                              test_data[i], \n",
    "                              6, \n",
    "                              distance=distance)\n",
    "    print(\"index: \", i, \n",
    "          \", result of vote: \", \n",
    "          vote_distance_weights(neighbors,\n",
    "                                all_results=True))"
   ]
  },
  {
   "cell_type": "code",
   "execution_count": 19,
   "metadata": {},
   "outputs": [
    {
     "name": "stdout",
     "output_type": "stream",
     "text": [
      "result of vote:  (2, [(2, 1.0)])\n"
     ]
    }
   ],
   "source": [
    "for test_instance in [(4.8, 2.5, 5.3, 2.4)]:\n",
    "    neighbors = get_neighbors(learn_data, \n",
    "                              learn_labels, \n",
    "                              test_data[i], \n",
    "                              6, \n",
    "                              distance=distance)\n",
    "    print(\"result of vote: \", \n",
    "          vote_distance_weights(neighbors,\n",
    "                                all_results=True))\n",
    "    \n",
    "# Target 2 : Iris Virgina"
   ]
  }
 ],
 "metadata": {
  "kernelspec": {
   "display_name": "Python 3",
   "language": "python",
   "name": "python3"
  },
  "language_info": {
   "codemirror_mode": {
    "name": "ipython",
    "version": 3
   },
   "file_extension": ".py",
   "mimetype": "text/x-python",
   "name": "python",
   "nbconvert_exporter": "python",
   "pygments_lexer": "ipython3",
   "version": "3.8.5"
  }
 },
 "nbformat": 4,
 "nbformat_minor": 4
}
